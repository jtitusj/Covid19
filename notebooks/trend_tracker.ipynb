{
 "cells": [
  {
   "cell_type": "code",
   "execution_count": 1,
   "metadata": {
    "ExecuteTime": {
     "end_time": "2020-04-29T06:32:18.792290Z",
     "start_time": "2020-04-29T06:32:15.685868Z"
    },
    "hide_input": false
   },
   "outputs": [],
   "source": [
    "import numpy as np\n",
    "import pandas as pd\n",
    "import requests\n",
    "import matplotlib.pyplot as plt\n",
    "import pandas_profiling as pp\n",
    "\n",
    "from scipy import stats as sps\n",
    "\n",
    "from io import BytesIO, StringIO\n",
    "\n",
    "%matplotlib inline"
   ]
  },
  {
   "cell_type": "markdown",
   "metadata": {},
   "source": [
    "## To Do\n",
    "\n",
    "1. Use Plotly\n",
    "1. Determine Optimal Sigma at PH level"
   ]
  },
  {
   "cell_type": "markdown",
   "metadata": {},
   "source": [
    "palette1 = https://www.color-hex.com/color-palette/15945  \n",
    "palette2 = https://www.color-hex.com/color-palette/1407"
   ]
  },
  {
   "cell_type": "markdown",
   "metadata": {},
   "source": [
    "## Load Data\n",
    "\n",
    "Data is from [DOH's Data Drop](https://drive.google.com/open?id=1-rUCIfDkx9jj4EFCkIqsjGwmc9Los_Pp).\n",
    "\n",
    "The [trick](https://stackoverflow.com/questions/56611698/pandas-how-to-read-csv-file-from-google-drive-public) to loading the csv file to pandas is to get the file id and use request to load the raw csv into into pandas."
   ]
  },
  {
   "cell_type": "code",
   "execution_count": 2,
   "metadata": {
    "ExecuteTime": {
     "end_time": "2020-04-29T06:32:25.318357Z",
     "start_time": "2020-04-29T06:32:18.794706Z"
    },
    "hide_input": false,
    "scrolled": true
   },
   "outputs": [
    {
     "data": {
      "text/html": [
       "<div>\n",
       "<style scoped>\n",
       "    .dataframe tbody tr th:only-of-type {\n",
       "        vertical-align: middle;\n",
       "    }\n",
       "\n",
       "    .dataframe tbody tr th {\n",
       "        vertical-align: top;\n",
       "    }\n",
       "\n",
       "    .dataframe thead th {\n",
       "        text-align: right;\n",
       "    }\n",
       "</style>\n",
       "<table border=\"1\" class=\"dataframe\">\n",
       "  <thead>\n",
       "    <tr style=\"text-align: right;\">\n",
       "      <th></th>\n",
       "      <th>CaseCode</th>\n",
       "      <th>Age</th>\n",
       "      <th>AgeGroup</th>\n",
       "      <th>Sex</th>\n",
       "      <th>DateRepConf</th>\n",
       "      <th>DateRecover</th>\n",
       "      <th>DateDied</th>\n",
       "      <th>RemovalType</th>\n",
       "      <th>DateRepRem</th>\n",
       "      <th>Admitted</th>\n",
       "      <th>HealthStatus</th>\n",
       "      <th>RegionRes</th>\n",
       "      <th>ProvRes</th>\n",
       "      <th>CityMunRes</th>\n",
       "      <th>RegionPSGC</th>\n",
       "      <th>ProvPSGC</th>\n",
       "      <th>CityMuniPSGC</th>\n",
       "    </tr>\n",
       "  </thead>\n",
       "  <tbody>\n",
       "    <tr>\n",
       "      <th>0</th>\n",
       "      <td>C100119</td>\n",
       "      <td>30.0</td>\n",
       "      <td>30 to 34</td>\n",
       "      <td>Male</td>\n",
       "      <td>2020-04-12</td>\n",
       "      <td>NaT</td>\n",
       "      <td>NaT</td>\n",
       "      <td>NaN</td>\n",
       "      <td>NaT</td>\n",
       "      <td>Yes</td>\n",
       "      <td>Asymptomatic</td>\n",
       "      <td>NCR</td>\n",
       "      <td>NCR</td>\n",
       "      <td>City of ParaÃ±aque</td>\n",
       "      <td>PH130000000</td>\n",
       "      <td>PH137600000</td>\n",
       "      <td>PH137604000</td>\n",
       "    </tr>\n",
       "    <tr>\n",
       "      <th>1</th>\n",
       "      <td>C100264</td>\n",
       "      <td>57.0</td>\n",
       "      <td>55 to 59</td>\n",
       "      <td>Male</td>\n",
       "      <td>2020-03-29</td>\n",
       "      <td>NaT</td>\n",
       "      <td>NaT</td>\n",
       "      <td>NaN</td>\n",
       "      <td>NaT</td>\n",
       "      <td>Yes</td>\n",
       "      <td>Mild</td>\n",
       "      <td>NCR</td>\n",
       "      <td>NCR</td>\n",
       "      <td>City of Mandaluyong</td>\n",
       "      <td>PH130000000</td>\n",
       "      <td>PH137400000</td>\n",
       "      <td>PH137401000</td>\n",
       "    </tr>\n",
       "    <tr>\n",
       "      <th>2</th>\n",
       "      <td>C100648</td>\n",
       "      <td>33.0</td>\n",
       "      <td>30 to 34</td>\n",
       "      <td>Female</td>\n",
       "      <td>2020-04-16</td>\n",
       "      <td>NaT</td>\n",
       "      <td>NaT</td>\n",
       "      <td>NaN</td>\n",
       "      <td>NaT</td>\n",
       "      <td>Yes</td>\n",
       "      <td>Mild</td>\n",
       "      <td>NCR</td>\n",
       "      <td>NCR</td>\n",
       "      <td>Quezon City</td>\n",
       "      <td>PH130000000</td>\n",
       "      <td>PH137400000</td>\n",
       "      <td>PH137404000</td>\n",
       "    </tr>\n",
       "    <tr>\n",
       "      <th>3</th>\n",
       "      <td>C100660</td>\n",
       "      <td>42.0</td>\n",
       "      <td>40 to 44</td>\n",
       "      <td>Female</td>\n",
       "      <td>2020-04-02</td>\n",
       "      <td>NaT</td>\n",
       "      <td>NaT</td>\n",
       "      <td>NaN</td>\n",
       "      <td>NaT</td>\n",
       "      <td>Yes</td>\n",
       "      <td>Mild</td>\n",
       "      <td>NCR</td>\n",
       "      <td>NCR</td>\n",
       "      <td>City of Pasig</td>\n",
       "      <td>PH130000000</td>\n",
       "      <td>PH137400000</td>\n",
       "      <td>PH137403000</td>\n",
       "    </tr>\n",
       "    <tr>\n",
       "      <th>4</th>\n",
       "      <td>C100776</td>\n",
       "      <td>42.0</td>\n",
       "      <td>40 to 44</td>\n",
       "      <td>Male</td>\n",
       "      <td>2020-04-01</td>\n",
       "      <td>NaT</td>\n",
       "      <td>NaT</td>\n",
       "      <td>NaN</td>\n",
       "      <td>NaT</td>\n",
       "      <td>Yes</td>\n",
       "      <td>Mild</td>\n",
       "      <td>4A</td>\n",
       "      <td>Laguna</td>\n",
       "      <td>Pila</td>\n",
       "      <td>PH040000000</td>\n",
       "      <td>PH043400000</td>\n",
       "      <td>PH043422000</td>\n",
       "    </tr>\n",
       "    <tr>\n",
       "      <th>5</th>\n",
       "      <td>C101015</td>\n",
       "      <td>79.0</td>\n",
       "      <td>75 to 79</td>\n",
       "      <td>Male</td>\n",
       "      <td>2020-04-03</td>\n",
       "      <td>NaT</td>\n",
       "      <td>NaT</td>\n",
       "      <td>NaN</td>\n",
       "      <td>NaT</td>\n",
       "      <td>Yes</td>\n",
       "      <td>Mild</td>\n",
       "      <td>4A</td>\n",
       "      <td>Quezon</td>\n",
       "      <td>Unisan</td>\n",
       "      <td>PH040000000</td>\n",
       "      <td>PH045600000</td>\n",
       "      <td>PH045649000</td>\n",
       "    </tr>\n",
       "    <tr>\n",
       "      <th>6</th>\n",
       "      <td>C101097</td>\n",
       "      <td>33.0</td>\n",
       "      <td>30 to 34</td>\n",
       "      <td>Male</td>\n",
       "      <td>2020-03-27</td>\n",
       "      <td>NaT</td>\n",
       "      <td>NaT</td>\n",
       "      <td>NaN</td>\n",
       "      <td>NaT</td>\n",
       "      <td>Yes</td>\n",
       "      <td>Mild</td>\n",
       "      <td>NCR</td>\n",
       "      <td>NCR</td>\n",
       "      <td>Quezon City</td>\n",
       "      <td>PH130000000</td>\n",
       "      <td>PH137400000</td>\n",
       "      <td>PH137404000</td>\n",
       "    </tr>\n",
       "    <tr>\n",
       "      <th>7</th>\n",
       "      <td>C101232</td>\n",
       "      <td>30.0</td>\n",
       "      <td>30 to 34</td>\n",
       "      <td>Male</td>\n",
       "      <td>2020-03-21</td>\n",
       "      <td>2020-03-25</td>\n",
       "      <td>NaT</td>\n",
       "      <td>Recovered</td>\n",
       "      <td>2020-03-28</td>\n",
       "      <td>Yes</td>\n",
       "      <td>Recovered</td>\n",
       "      <td>NCR</td>\n",
       "      <td>NCR</td>\n",
       "      <td>City of Mandaluyong</td>\n",
       "      <td>PH130000000</td>\n",
       "      <td>PH137400000</td>\n",
       "      <td>PH137401000</td>\n",
       "    </tr>\n",
       "    <tr>\n",
       "      <th>8</th>\n",
       "      <td>C101376</td>\n",
       "      <td>29.0</td>\n",
       "      <td>25 to 29</td>\n",
       "      <td>Male</td>\n",
       "      <td>2020-04-11</td>\n",
       "      <td>NaT</td>\n",
       "      <td>NaT</td>\n",
       "      <td>NaN</td>\n",
       "      <td>NaT</td>\n",
       "      <td>Yes</td>\n",
       "      <td>Mild</td>\n",
       "      <td>NCR</td>\n",
       "      <td>NaN</td>\n",
       "      <td>NaN</td>\n",
       "      <td>NaN</td>\n",
       "      <td>NaN</td>\n",
       "      <td>NaN</td>\n",
       "    </tr>\n",
       "    <tr>\n",
       "      <th>9</th>\n",
       "      <td>C101483</td>\n",
       "      <td>40.0</td>\n",
       "      <td>40 to 44</td>\n",
       "      <td>Female</td>\n",
       "      <td>2020-04-14</td>\n",
       "      <td>NaT</td>\n",
       "      <td>NaT</td>\n",
       "      <td>NaN</td>\n",
       "      <td>NaT</td>\n",
       "      <td>NaN</td>\n",
       "      <td>Mild</td>\n",
       "      <td>NCR</td>\n",
       "      <td>NCR</td>\n",
       "      <td>City of San Juan</td>\n",
       "      <td>PH130000000</td>\n",
       "      <td>PH137400000</td>\n",
       "      <td>PH137405000</td>\n",
       "    </tr>\n",
       "  </tbody>\n",
       "</table>\n",
       "</div>"
      ],
      "text/plain": [
       "  CaseCode   Age  AgeGroup     Sex DateRepConf DateRecover DateDied  \\\n",
       "0  C100119  30.0  30 to 34    Male  2020-04-12         NaT      NaT   \n",
       "1  C100264  57.0  55 to 59    Male  2020-03-29         NaT      NaT   \n",
       "2  C100648  33.0  30 to 34  Female  2020-04-16         NaT      NaT   \n",
       "3  C100660  42.0  40 to 44  Female  2020-04-02         NaT      NaT   \n",
       "4  C100776  42.0  40 to 44    Male  2020-04-01         NaT      NaT   \n",
       "5  C101015  79.0  75 to 79    Male  2020-04-03         NaT      NaT   \n",
       "6  C101097  33.0  30 to 34    Male  2020-03-27         NaT      NaT   \n",
       "7  C101232  30.0  30 to 34    Male  2020-03-21  2020-03-25      NaT   \n",
       "8  C101376  29.0  25 to 29    Male  2020-04-11         NaT      NaT   \n",
       "9  C101483  40.0  40 to 44  Female  2020-04-14         NaT      NaT   \n",
       "\n",
       "  RemovalType DateRepRem Admitted  HealthStatus RegionRes ProvRes  \\\n",
       "0         NaN        NaT      Yes  Asymptomatic       NCR     NCR   \n",
       "1         NaN        NaT      Yes          Mild       NCR     NCR   \n",
       "2         NaN        NaT      Yes          Mild       NCR     NCR   \n",
       "3         NaN        NaT      Yes          Mild       NCR     NCR   \n",
       "4         NaN        NaT      Yes          Mild        4A  Laguna   \n",
       "5         NaN        NaT      Yes          Mild        4A  Quezon   \n",
       "6         NaN        NaT      Yes          Mild       NCR     NCR   \n",
       "7   Recovered 2020-03-28      Yes     Recovered       NCR     NCR   \n",
       "8         NaN        NaT      Yes          Mild       NCR     NaN   \n",
       "9         NaN        NaT      NaN          Mild       NCR     NCR   \n",
       "\n",
       "            CityMunRes   RegionPSGC     ProvPSGC CityMuniPSGC  \n",
       "0   City of ParaÃ±aque  PH130000000  PH137600000  PH137604000  \n",
       "1  City of Mandaluyong  PH130000000  PH137400000  PH137401000  \n",
       "2          Quezon City  PH130000000  PH137400000  PH137404000  \n",
       "3        City of Pasig  PH130000000  PH137400000  PH137403000  \n",
       "4                 Pila  PH040000000  PH043400000  PH043422000  \n",
       "5               Unisan  PH040000000  PH045600000  PH045649000  \n",
       "6          Quezon City  PH130000000  PH137400000  PH137404000  \n",
       "7  City of Mandaluyong  PH130000000  PH137400000  PH137401000  \n",
       "8                  NaN          NaN          NaN          NaN  \n",
       "9     City of San Juan  PH130000000  PH137400000  PH137405000  "
      ]
     },
     "execution_count": 2,
     "metadata": {},
     "output_type": "execute_result"
    }
   ],
   "source": [
    "# src = 'https://drive.google.com/open?id=1AC_x8c1HEgVV997VaeQuJ--viBpbBY_j'\n",
    "src = 'https://drive.google.com/open?id=1X_JPTiGr8q12ujnnelDpcpQcMm91AL9T'\n",
    "file_id = src.split('=')[1]\n",
    "dwn_url='https://drive.google.com/uc?export=download&id=' + file_id\n",
    "url = requests.get(dwn_url).text\n",
    "csv_raw = StringIO(url)\n",
    "df = pd.read_csv(csv_raw)\n",
    "\n",
    "# format date columns\n",
    "for col in df.columns:\n",
    "    if 'Date' in col:\n",
    "        df[col] = pd.to_datetime(df[col])\n",
    "df.head(10)"
   ]
  },
  {
   "cell_type": "markdown",
   "metadata": {},
   "source": [
    "## Latest Statistics"
   ]
  },
  {
   "cell_type": "code",
   "execution_count": 3,
   "metadata": {
    "ExecuteTime": {
     "end_time": "2020-04-29T06:32:25.335299Z",
     "start_time": "2020-04-29T06:32:25.320376Z"
    }
   },
   "outputs": [
    {
     "name": "stdout",
     "output_type": "stream",
     "text": [
      "Total Cases: 7958 \n",
      "Active Cases: 6453(81.1% of total cases)\n",
      "Recovered: 975 (12.3% of total cases)\n",
      "Died: 530 (6.7% of total cases)\n"
     ]
    }
   ],
   "source": [
    "total_cases = len(df)\n",
    "recovered = len(df.loc[df.RemovalType=='Recovered'])\n",
    "died = len(df.loc[df.RemovalType=='Died'])\n",
    "active_cases = total_cases - recovered - died\n",
    "percent_active = active_cases / total_cases\n",
    "percent_recovered = recovered / total_cases\n",
    "percent_died = died / total_cases\n",
    "\n",
    "print(f'Total Cases: {total_cases} \\nActive Cases: {active_cases}\\\n",
    "({100*percent_active:.1f}% of total cases)\\n\\\n",
    "Recovered: {recovered} ({100*percent_recovered:.1f}% of total cases)\\n\\\n",
    "Died: {died} ({100*percent_died:.1f}% of total cases)')"
   ]
  },
  {
   "cell_type": "markdown",
   "metadata": {},
   "source": [
    "## Daily Trend of Total and Active Cases,  Recovered, and Died"
   ]
  },
  {
   "cell_type": "markdown",
   "metadata": {},
   "source": [
    "### Total Cases Per Day"
   ]
  },
  {
   "cell_type": "code",
   "execution_count": 4,
   "metadata": {
    "ExecuteTime": {
     "end_time": "2020-04-29T06:32:27.059007Z",
     "start_time": "2020-04-29T06:32:25.338017Z"
    }
   },
   "outputs": [
    {
     "name": "stderr",
     "output_type": "stream",
     "text": [
      "/Users/User/opt/anaconda3/envs/covid19/lib/python3.7/site-packages/pandas/core/series.py:679: RuntimeWarning: divide by zero encountered in log\n",
      "  result = getattr(ufunc, method)(*inputs, **kwargs)\n",
      "/Users/User/opt/anaconda3/envs/covid19/lib/python3.7/site-packages/pandas/core/series.py:679: RuntimeWarning: divide by zero encountered in log\n",
      "  result = getattr(ufunc, method)(*inputs, **kwargs)\n",
      "/Users/User/opt/anaconda3/envs/covid19/lib/python3.7/site-packages/pandas/core/series.py:679: RuntimeWarning: divide by zero encountered in log\n",
      "  result = getattr(ufunc, method)(*inputs, **kwargs)\n"
     ]
    },
    {
     "data": {
      "image/png": "[encoded data removed]",
      "text/plain": [
       "<Figure size 1152x1008 with 2 Axes>"
      ]
     },
     "metadata": {
      "needs_background": "light"
     },
     "output_type": "display_data"
    }
   ],
   "source": [
    "fig, ax = plt.subplots(2, figsize=(16, 14), sharex=True)\n",
    "\n",
    "cases_per_day = (df.groupby('DateRepConf')['CaseCode']\n",
    "                 .count().resample('1D').sum())\n",
    "\n",
    "ax_ = ax[0]\n",
    "x = cases_per_day.index.date\n",
    "ax_.plot(x, np.log(cases_per_day.cumsum()), color='#0084ff',\n",
    "        label='Total Confirmed Cases')\n",
    "ax_.fill_between(x, y1=0, y2=np.log(cases_per_day.cumsum()), alpha=.1,\n",
    "                color='#0084ff', label='')\n",
    "ax_.bar(x, np.log(cases_per_day), color='#0084ff', alpha=.8,\n",
    "       label='New Confirmed Cases', align='edge', width=-.8)\n",
    "ax_.set_ylim(0,)\n",
    "ax_.set_xlim(cases_per_day.index[0], cases_per_day.index[-1])\n",
    "ax_.legend()\n",
    "\n",
    "# recoveries\n",
    "recoveries_per_day = (df.loc[df.RemovalType=='Recovered']\n",
    "                      .groupby('DateRecover')['CaseCode']\n",
    "                      .count().resample('1D').sum())\n",
    "\n",
    "x = recoveries_per_day.index.date\n",
    "ax_ = ax[1]\n",
    "ax_.plot(x, np.log(recoveries_per_day.cumsum()),\n",
    "         color='#44bec7', label='Total Recoveries', zorder=2)\n",
    "ax_.fill_between(x, y1=0, y2=np.log(recoveries_per_day.cumsum()),\n",
    "                 color='#44bec7', label='', alpha=.1, zorder=2)\n",
    "ax_.bar(x, np.log(recoveries_per_day), color='#44bec7', alpha=1,\n",
    "        label='New Recoveries', align='edge', width=-.8, zorder=0)\n",
    "\n",
    "# deaths\n",
    "deaths_per_day = (df.loc[df.RemovalType=='Died']\n",
    "                  .groupby('DateDied')['CaseCode']\n",
    "                  .count().resample('1D').sum())\n",
    "\n",
    "x = deaths_per_day.index.date\n",
    "ax_.plot(x, np.log(deaths_per_day.cumsum()),\n",
    "         color='#fa3c4c', label='Total Deaths', zorder=3)\n",
    "ax_.fill_between(x, y1=0, y2=np.log(deaths_per_day.cumsum()),\n",
    "                 color='#fa3c4c', label='', alpha=.1, zorder=3)\n",
    "ax_.bar(x, np.log(deaths_per_day), color='#fa3c4c', alpha=.5,\n",
    "        label='New Deaths', align='edge', width=-.8, zorder=1)\n",
    "ax_.set_ylim(0,)\n",
    "ax_.set_xlim(cases_per_day.index[0], cases_per_day.index[-1])\n",
    "ax_.legend()\n",
    "\n",
    "fig.tight_layout();"
   ]
  },
  {
   "cell_type": "markdown",
   "metadata": {},
   "source": [
    "### Percent Active, Recovered, and Died"
   ]
  },
  {
   "cell_type": "code",
   "execution_count": 5,
   "metadata": {
    "ExecuteTime": {
     "end_time": "2020-04-29T06:32:27.167530Z",
     "start_time": "2020-04-29T06:32:27.064576Z"
    }
   },
   "outputs": [
    {
     "data": {
      "text/html": [
       "<div>\n",
       "<style scoped>\n",
       "    .dataframe tbody tr th:only-of-type {\n",
       "        vertical-align: middle;\n",
       "    }\n",
       "\n",
       "    .dataframe tbody tr th {\n",
       "        vertical-align: top;\n",
       "    }\n",
       "\n",
       "    .dataframe thead th {\n",
       "        text-align: right;\n",
       "    }\n",
       "</style>\n",
       "<table border=\"1\" class=\"dataframe\">\n",
       "  <thead>\n",
       "    <tr style=\"text-align: right;\">\n",
       "      <th></th>\n",
       "    </tr>\n",
       "    <tr>\n",
       "      <th>DateRepConf</th>\n",
       "    </tr>\n",
       "  </thead>\n",
       "  <tbody>\n",
       "    <tr>\n",
       "      <th>2020-01-30</th>\n",
       "    </tr>\n",
       "    <tr>\n",
       "      <th>2020-01-31</th>\n",
       "    </tr>\n",
       "    <tr>\n",
       "      <th>2020-02-01</th>\n",
       "    </tr>\n",
       "    <tr>\n",
       "      <th>2020-02-02</th>\n",
       "    </tr>\n",
       "    <tr>\n",
       "      <th>2020-02-03</th>\n",
       "    </tr>\n",
       "  </tbody>\n",
       "</table>\n",
       "</div>"
      ],
      "text/plain": [
       "Empty DataFrame\n",
       "Columns: []\n",
       "Index: [2020-01-30 00:00:00, 2020-01-31 00:00:00, 2020-02-01 00:00:00, 2020-02-02 00:00:00, 2020-02-03 00:00:00]"
      ]
     },
     "execution_count": 5,
     "metadata": {},
     "output_type": "execute_result"
    }
   ],
   "source": [
    "dates = (df.loc[:, ['DateRepConf']].drop_duplicates()\n",
    "         .sort_values(by='DateRepConf')\n",
    "         .set_index('DateRepConf')\n",
    "         .resample('D').sum())\n",
    "dates.head()"
   ]
  },
  {
   "cell_type": "code",
   "execution_count": 6,
   "metadata": {
    "ExecuteTime": {
     "end_time": "2020-04-29T06:32:27.544355Z",
     "start_time": "2020-04-29T06:32:27.172636Z"
    }
   },
   "outputs": [
    {
     "data": {
      "text/html": [
       "<div>\n",
       "<style scoped>\n",
       "    .dataframe tbody tr th:only-of-type {\n",
       "        vertical-align: middle;\n",
       "    }\n",
       "\n",
       "    .dataframe tbody tr th {\n",
       "        vertical-align: top;\n",
       "    }\n",
       "\n",
       "    .dataframe thead th {\n",
       "        text-align: right;\n",
       "    }\n",
       "</style>\n",
       "<table border=\"1\" class=\"dataframe\">\n",
       "  <thead>\n",
       "    <tr style=\"text-align: right;\">\n",
       "      <th></th>\n",
       "      <th>total</th>\n",
       "      <th>active</th>\n",
       "      <th>recovered</th>\n",
       "      <th>died</th>\n",
       "    </tr>\n",
       "    <tr>\n",
       "      <th>DateRepConf</th>\n",
       "      <th></th>\n",
       "      <th></th>\n",
       "      <th></th>\n",
       "      <th></th>\n",
       "    </tr>\n",
       "  </thead>\n",
       "  <tbody>\n",
       "    <tr>\n",
       "      <th>2020-04-24</th>\n",
       "      <td>7192</td>\n",
       "      <td>5953</td>\n",
       "      <td>762</td>\n",
       "      <td>477</td>\n",
       "    </tr>\n",
       "    <tr>\n",
       "      <th>2020-04-25</th>\n",
       "      <td>7294</td>\n",
       "      <td>6008</td>\n",
       "      <td>792</td>\n",
       "      <td>494</td>\n",
       "    </tr>\n",
       "    <tr>\n",
       "      <th>2020-04-26</th>\n",
       "      <td>7579</td>\n",
       "      <td>6216</td>\n",
       "      <td>862</td>\n",
       "      <td>501</td>\n",
       "    </tr>\n",
       "    <tr>\n",
       "      <th>2020-04-27</th>\n",
       "      <td>7777</td>\n",
       "      <td>6334</td>\n",
       "      <td>932</td>\n",
       "      <td>511</td>\n",
       "    </tr>\n",
       "    <tr>\n",
       "      <th>2020-04-28</th>\n",
       "      <td>7958</td>\n",
       "      <td>6453</td>\n",
       "      <td>975</td>\n",
       "      <td>530</td>\n",
       "    </tr>\n",
       "  </tbody>\n",
       "</table>\n",
       "</div>"
      ],
      "text/plain": [
       "             total  active  recovered  died\n",
       "DateRepConf                                \n",
       "2020-04-24    7192    5953        762   477\n",
       "2020-04-25    7294    6008        792   494\n",
       "2020-04-26    7579    6216        862   501\n",
       "2020-04-27    7777    6334        932   511\n",
       "2020-04-28    7958    6453        975   530"
      ]
     },
     "execution_count": 6,
     "metadata": {},
     "output_type": "execute_result"
    }
   ],
   "source": [
    "total = []\n",
    "active = []\n",
    "recovered = []\n",
    "died = []\n",
    "for i in range(len(dates)):\n",
    "    df_outcomes = df[df.DateRepRem <= dates.iloc[i].name]\n",
    "    df_total = df[df.DateRepConf <= dates.iloc[i].name]\n",
    "\n",
    "    t = len(df_total)\n",
    "    r = len(df_outcomes.loc[df_outcomes.RemovalType == 'Recovered'])\n",
    "    d = len(df_outcomes.loc[df_outcomes.RemovalType == 'Died'])\n",
    "    a = t - r - d\n",
    "    total.append(t)\n",
    "    active.append(a)\n",
    "    recovered.append(r)\n",
    "    died.append(d)\n",
    "\n",
    "df_cummu_daily = pd.DataFrame({'total': total, 'active': active,\n",
    "                               'recovered': recovered, 'died': died},\n",
    "                              index=dates.index)\n",
    "df_cummu_daily.tail()"
   ]
  },
  {
   "cell_type": "code",
   "execution_count": 7,
   "metadata": {
    "ExecuteTime": {
     "end_time": "2020-04-29T06:32:27.996091Z",
     "start_time": "2020-04-29T06:32:27.548087Z"
    }
   },
   "outputs": [
    {
     "data": {
      "image/png": "[encoded data removed]",
      "text/plain": [
       "<Figure size 576x576 with 1 Axes>"
      ]
     },
     "metadata": {
      "needs_background": "light"
     },
     "output_type": "display_data"
    }
   ],
   "source": [
    "percent_active_per_day = (100 * df_cummu_daily.active / df_cummu_daily.total)\n",
    "percent_deaths_per_day = (100 * df_cummu_daily.died / df_cummu_daily.total)\n",
    "percent_recoveries_per_day = (100 * df_cummu_daily.recovered / df_cummu_daily.total)\n",
    "\n",
    "fig, ax = plt.subplots(figsize=(8, 8))\n",
    "x = df_cummu_daily.iloc[42:].index\n",
    "ax.plot(x, percent_active_per_day[x],\n",
    "        color='#0084ff', label='Active')\n",
    "ax.plot(x, percent_recoveries_per_day[x], color='#44bec7', label='Recoveries')\n",
    "ax.plot(x, percent_deaths_per_day[x], color='#fa3c4c', label='Deaths')\n",
    "ax.set_ylim(0, 100)\n",
    "ax.set_xlabel('Date', size=15)\n",
    "ax.set_ylabel('% Total Cases', size=15)\n",
    "ax.legend()\n",
    "ax.grid(True)"
   ]
  },
  {
   "cell_type": "markdown",
   "metadata": {},
   "source": [
    "While the number of total cases is still rising, the number of patients that recovered are also increasing."
   ]
  },
  {
   "cell_type": "markdown",
   "metadata": {},
   "source": [
    "### Naive Fatality Rate Estimation\n",
    "\n",
    "Due to the nature of the data, we cannot reliably estimate the final fatality rate yet. However, we can provide an initial interval estimate using (1) total number of deaths over total cases and (2) total number of deaths over total number of cases with outcomes."
   ]
  },
  {
   "cell_type": "code",
   "execution_count": 8,
   "metadata": {
    "ExecuteTime": {
     "end_time": "2020-04-29T06:32:28.406475Z",
     "start_time": "2020-04-29T06:32:27.999275Z"
    }
   },
   "outputs": [
    {
     "data": {
      "text/plain": [
       "<matplotlib.legend.Legend at 0x1092f8450>"
      ]
     },
     "execution_count": 8,
     "metadata": {},
     "output_type": "execute_result"
    },
    {
     "data": {
      "image/png": "[encoded data removed]",
      "text/plain": [
       "<Figure size 1152x432 with 1 Axes>"
      ]
     },
     "metadata": {
      "needs_background": "light"
     },
     "output_type": "display_data"
    }
   ],
   "source": [
    "df_outcomes = 100 * df_cummu_daily.died / df_cummu_daily.iloc[:, 2:].sum(axis=1)\n",
    "df_curr_rate = 100 * df_cummu_daily.died / df_cummu_daily.total\n",
    "\n",
    "fig, ax = plt.subplots(figsize=(16, 6))\n",
    "x = df_cummu_daily.iloc[42:].index\n",
    "# ax.plot(x, df_curr_rate[x],\n",
    "#         color='#0084ff', label='Active')\n",
    "# ax.plot(x, df_outcomes[x])\n",
    "ax.fill_between(x, y1=df_curr_rate[x], y2=df_outcomes[x], alpha=.1,\n",
    "                color='#fa3c4c',\n",
    "                label='Naive Interval Estimates')\n",
    "ax.plot(x, df_curr_rate[x], color='#fa3c4c', label='Deaths / Total Cases')\n",
    "ax.plot(x, df_outcomes[x], color='#fa3c4c', label='Deaths / Cases with Outcomes')\n",
    "ax.set_ylim(0, 100)\n",
    "ax.set_xlabel('Date', size=15)\n",
    "ax.set_ylabel('Rates', size=15)\n",
    "ax.legend()"
   ]
  },
  {
   "cell_type": "markdown",
   "metadata": {},
   "source": [
    "We see that the daily deaths / total cases seems relatively fixed while deaths / cases with outcomes are declining."
   ]
  },
  {
   "cell_type": "markdown",
   "metadata": {},
   "source": [
    "### What is the proportion by Health Status per Day?"
   ]
  },
  {
   "cell_type": "markdown",
   "metadata": {},
   "source": [
    "### What is the proportion by Age Group per Day?"
   ]
  },
  {
   "cell_type": "markdown",
   "metadata": {},
   "source": [
    "### Time to Recovery/Death"
   ]
  },
  {
   "cell_type": "code",
   "execution_count": 9,
   "metadata": {
    "ExecuteTime": {
     "end_time": "2020-04-29T06:32:29.246442Z",
     "start_time": "2020-04-29T06:32:28.412093Z"
    }
   },
   "outputs": [
    {
     "data": {
      "image/png": "[encoded data removed]",
      "text/plain": [
       "<Figure size 1152x576 with 1 Axes>"
      ]
     },
     "metadata": {
      "needs_background": "light"
     },
     "output_type": "display_data"
    }
   ],
   "source": [
    "df_recovered = df.loc[(df.RemovalType=='Recovered')]\n",
    "df_died = df.loc[(df.RemovalType=='Died')]\n",
    "\n",
    "fig, ax = plt.subplots(figsize=(16, 8))\n",
    "bins = np.arange(-40, 40)\n",
    "((df_recovered.DateRecover - df_recovered.DateRepConf)\n",
    " .dt.days.hist(bins=bins, edgecolor='k', label='Recovered',\n",
    "               facecolor='#44bec7', alpha=.5, ax=ax))\n",
    "\n",
    "((df_died.DateDied - df_died.DateRepConf)\n",
    " .dt.days.hist(bins=bins, edgecolor='k', label='Died',\n",
    "                    facecolor='#fa3c4c', alpha=.5, ax=ax))\n",
    "ax.axvline(0, label='Date of Confirmation', linewidth=3, color='k')\n",
    "ax.set_xlim(bins[0], bins[-1])\n",
    "ax.grid(False)\n",
    "ax.legend()\n",
    "ax.set_ylabel('Number of Cases', size=12)\n",
    "ax.set_xlabel('Days After Confirmation', size=12)\n",
    "fig.tight_layout()"
   ]
  },
  {
   "cell_type": "markdown",
   "metadata": {},
   "source": [
    "### Is It Getting Under Control?"
   ]
  },
  {
   "cell_type": "markdown",
   "metadata": {},
   "source": [
    "#### New Cases VS Total Cases"
   ]
  },
  {
   "cell_type": "code",
   "execution_count": 10,
   "metadata": {
    "ExecuteTime": {
     "end_time": "2020-04-29T06:32:30.247515Z",
     "start_time": "2020-04-29T06:32:29.249512Z"
    }
   },
   "outputs": [
    {
     "data": {
      "image/png": "[encoded data removed]",
      "text/plain": [
       "<Figure size 720x432 with 1 Axes>"
      ]
     },
     "metadata": {
      "needs_background": "light"
     },
     "output_type": "display_data"
    }
   ],
   "source": [
    "fig, ax = plt.subplots(figsize=(10, 6))\n",
    "ax.loglog(cases_per_day[x].rolling(window=7).sum().cumsum(),\n",
    "          cases_per_day[x].rolling(window=7).sum(), color='#0084ff')\n",
    "# ax.loglog(cases_per_day[x].rolling(window=7).sum().cumsum().iloc[27],\n",
    "#           cases_per_day[x].rolling(window=7).sum().iloc[27],\n",
    "#           color='k', marker='o')\n",
    "# ax.loglog(cases_per_day[x].rolling(window=7).sum().cumsum().iloc[18],\n",
    "#           cases_per_day[x].rolling(window=7).sum().iloc[18],\n",
    "#           color='red', marker='o')\n",
    "ax.set_xlabel('Total Cases (log)')\n",
    "ax.set_ylabel('New Cases (log)');"
   ]
  },
  {
   "cell_type": "markdown",
   "metadata": {},
   "source": [
    "Based on the plot above, the trend of new cases relative to total cases in log-log scale has become negative. This means that compared to the total cases, the growth in the number of new cases has slowed down."
   ]
  },
  {
   "cell_type": "markdown",
   "metadata": {},
   "source": [
    "#### Tests Performed Daily and Percent Positive"
   ]
  },
  {
   "cell_type": "code",
   "execution_count": 11,
   "metadata": {
    "ExecuteTime": {
     "end_time": "2020-04-29T06:32:33.765831Z",
     "start_time": "2020-04-29T06:32:30.250034Z"
    },
    "scrolled": false
   },
   "outputs": [
    {
     "data": {
      "text/html": [
       "<div>\n",
       "<style scoped>\n",
       "    .dataframe tbody tr th:only-of-type {\n",
       "        vertical-align: middle;\n",
       "    }\n",
       "\n",
       "    .dataframe tbody tr th {\n",
       "        vertical-align: top;\n",
       "    }\n",
       "\n",
       "    .dataframe thead th {\n",
       "        text-align: right;\n",
       "    }\n",
       "</style>\n",
       "<table border=\"1\" class=\"dataframe\">\n",
       "  <thead>\n",
       "    <tr style=\"text-align: right;\">\n",
       "      <th></th>\n",
       "      <th>Name of Health Facility/Laboratory</th>\n",
       "      <th>Abbrev of Health Facility</th>\n",
       "      <th>Daily Output - Positive Individuals</th>\n",
       "      <th>Daily Output - Unique Individuals Tested</th>\n",
       "      <th>Daily Output - Tests Conducted</th>\n",
       "      <th>UNIQUE INDIVIDUALS TESTED</th>\n",
       "      <th>POSITIVE INDIVIDUALS</th>\n",
       "      <th>% positive/ unique individuals</th>\n",
       "      <th>NEGATIVE INDIVIDUALS</th>\n",
       "      <th>% negative/ unique individuals</th>\n",
       "      <th>EQUIVOCAL</th>\n",
       "      <th>% equivocal /unique individuals</th>\n",
       "      <th>INVALID</th>\n",
       "      <th>% invalid /unique individuals</th>\n",
       "      <th>TOTAL TESTS CONDUCTED</th>\n",
       "      <th>%</th>\n",
       "      <th>REMAINING AVAILABLE TESTS</th>\n",
       "      <th>%.1</th>\n",
       "      <th>Date</th>\n",
       "    </tr>\n",
       "  </thead>\n",
       "  <tbody>\n",
       "    <tr>\n",
       "      <th>0</th>\n",
       "      <td>Research Institute for Tropical Medicine (RITM)</td>\n",
       "      <td>RITM</td>\n",
       "      <td>NaN</td>\n",
       "      <td>NaN</td>\n",
       "      <td>NaN</td>\n",
       "      <td>15197</td>\n",
       "      <td>2652</td>\n",
       "      <td>17%</td>\n",
       "      <td>11367</td>\n",
       "      <td>75%</td>\n",
       "      <td>32</td>\n",
       "      <td>0.20%</td>\n",
       "      <td>NaN</td>\n",
       "      <td>NaN</td>\n",
       "      <td>20,826</td>\n",
       "      <td>NaN</td>\n",
       "      <td>75,396</td>\n",
       "      <td>NaN</td>\n",
       "      <td>2020-04-02</td>\n",
       "    </tr>\n",
       "    <tr>\n",
       "      <th>1</th>\n",
       "      <td>Baguio General Hospital and Medical Center (BG...</td>\n",
       "      <td>BGHMC</td>\n",
       "      <td>NaN</td>\n",
       "      <td>NaN</td>\n",
       "      <td>NaN</td>\n",
       "      <td>473</td>\n",
       "      <td>21</td>\n",
       "      <td>4%</td>\n",
       "      <td>452</td>\n",
       "      <td>96%</td>\n",
       "      <td>0</td>\n",
       "      <td>0.00%</td>\n",
       "      <td>NaN</td>\n",
       "      <td>NaN</td>\n",
       "      <td>478</td>\n",
       "      <td>NaN</td>\n",
       "      <td>4,519</td>\n",
       "      <td>NaN</td>\n",
       "      <td>2020-04-02</td>\n",
       "    </tr>\n",
       "    <tr>\n",
       "      <th>2</th>\n",
       "      <td>San Lazaro Hospital (SLH)</td>\n",
       "      <td>SLH</td>\n",
       "      <td>NaN</td>\n",
       "      <td>NaN</td>\n",
       "      <td>NaN</td>\n",
       "      <td>115</td>\n",
       "      <td>31</td>\n",
       "      <td>27%</td>\n",
       "      <td>84</td>\n",
       "      <td>73%</td>\n",
       "      <td>0</td>\n",
       "      <td>0.00%</td>\n",
       "      <td>NaN</td>\n",
       "      <td>NaN</td>\n",
       "      <td>193</td>\n",
       "      <td>NaN</td>\n",
       "      <td>4,846</td>\n",
       "      <td>NaN</td>\n",
       "      <td>2020-04-02</td>\n",
       "    </tr>\n",
       "    <tr>\n",
       "      <th>3</th>\n",
       "      <td>Vicente Sotto Memorial Medical Center (VSMMC)</td>\n",
       "      <td>VSMMC</td>\n",
       "      <td>NaN</td>\n",
       "      <td>NaN</td>\n",
       "      <td>NaN</td>\n",
       "      <td>672</td>\n",
       "      <td>37</td>\n",
       "      <td>6%</td>\n",
       "      <td>634</td>\n",
       "      <td>94%</td>\n",
       "      <td>1</td>\n",
       "      <td>0.10%</td>\n",
       "      <td>NaN</td>\n",
       "      <td>NaN</td>\n",
       "      <td>672</td>\n",
       "      <td>NaN</td>\n",
       "      <td>23,812</td>\n",
       "      <td>NaN</td>\n",
       "      <td>2020-04-02</td>\n",
       "    </tr>\n",
       "    <tr>\n",
       "      <th>4</th>\n",
       "      <td>UP National Institutes of Health (UP-NIH)</td>\n",
       "      <td>UP-NIH</td>\n",
       "      <td>NaN</td>\n",
       "      <td>NaN</td>\n",
       "      <td>NaN</td>\n",
       "      <td>332</td>\n",
       "      <td>43</td>\n",
       "      <td>13%</td>\n",
       "      <td>279</td>\n",
       "      <td>84%</td>\n",
       "      <td>10</td>\n",
       "      <td>3.00%</td>\n",
       "      <td>NaN</td>\n",
       "      <td>NaN</td>\n",
       "      <td>335</td>\n",
       "      <td>NaN</td>\n",
       "      <td>4,565</td>\n",
       "      <td>NaN</td>\n",
       "      <td>2020-04-02</td>\n",
       "    </tr>\n",
       "  </tbody>\n",
       "</table>\n",
       "</div>"
      ],
      "text/plain": [
       "                  Name of Health Facility/Laboratory  \\\n",
       "0    Research Institute for Tropical Medicine (RITM)   \n",
       "1  Baguio General Hospital and Medical Center (BG...   \n",
       "2                          San Lazaro Hospital (SLH)   \n",
       "3      Vicente Sotto Memorial Medical Center (VSMMC)   \n",
       "4          UP National Institutes of Health (UP-NIH)   \n",
       "\n",
       "  Abbrev of Health Facility Daily Output - Positive Individuals  \\\n",
       "0                      RITM                                 NaN   \n",
       "1                     BGHMC                                 NaN   \n",
       "2                       SLH                                 NaN   \n",
       "3                     VSMMC                                 NaN   \n",
       "4                    UP-NIH                                 NaN   \n",
       "\n",
       "  Daily Output - Unique Individuals Tested Daily Output - Tests Conducted  \\\n",
       "0                                      NaN                            NaN   \n",
       "1                                      NaN                            NaN   \n",
       "2                                      NaN                            NaN   \n",
       "3                                      NaN                            NaN   \n",
       "4                                      NaN                            NaN   \n",
       "\n",
       "   UNIQUE INDIVIDUALS TESTED  POSITIVE INDIVIDUALS  \\\n",
       "0                      15197                  2652   \n",
       "1                        473                    21   \n",
       "2                        115                    31   \n",
       "3                        672                    37   \n",
       "4                        332                    43   \n",
       "\n",
       "  % positive/ unique individuals  NEGATIVE INDIVIDUALS  \\\n",
       "0                            17%                 11367   \n",
       "1                             4%                   452   \n",
       "2                            27%                    84   \n",
       "3                             6%                   634   \n",
       "4                            13%                   279   \n",
       "\n",
       "  % negative/ unique individuals  EQUIVOCAL % equivocal /unique individuals  \\\n",
       "0                            75%         32                           0.20%   \n",
       "1                            96%          0                           0.00%   \n",
       "2                            73%          0                           0.00%   \n",
       "3                            94%          1                           0.10%   \n",
       "4                            84%         10                           3.00%   \n",
       "\n",
       "   INVALID % invalid /unique individuals TOTAL TESTS CONDUCTED   %  \\\n",
       "0      NaN                           NaN                20,826 NaN   \n",
       "1      NaN                           NaN                   478 NaN   \n",
       "2      NaN                           NaN                   193 NaN   \n",
       "3      NaN                           NaN                   672 NaN   \n",
       "4      NaN                           NaN                   335 NaN   \n",
       "\n",
       "  REMAINING AVAILABLE TESTS  %.1       Date  \n",
       "0                    75,396  NaN 2020-04-02  \n",
       "1                     4,519  NaN 2020-04-02  \n",
       "2                     4,846  NaN 2020-04-02  \n",
       "3                    23,812  NaN 2020-04-02  \n",
       "4                     4,565  NaN 2020-04-02  "
      ]
     },
     "execution_count": 11,
     "metadata": {},
     "output_type": "execute_result"
    }
   ],
   "source": [
    "# url = 'https://drive.google.com/open?id=1f-R_LDq75nxzP0IjyzHCTVNLd1BbII5N'\n",
    "url = 'https://drive.google.com/open?id=1E7cpkihKtojkyuoy2UMYuSlMn8NsHu7D'\n",
    "file_id = url.split('=')[1]\n",
    "dwn_url='https://drive.google.com/uc?export=download&id=' + file_id\n",
    "url = requests.get(dwn_url).text\n",
    "csv_raw = StringIO(url)\n",
    "df_tests = pd.read_csv(csv_raw)\n",
    "\n",
    "# format date\n",
    "df_tests['Date'] = pd.to_datetime(df_tests['Date'])\n",
    "\n",
    "# format count columns\n",
    "cols = [col for col in df_tests.columns if 'INDIVIDUALS' in col]\n",
    "for col in cols:\n",
    "    df_tests[col] = df_tests[col].str.replace(',', '').astype(int)\n",
    "        \n",
    "df_tests.head()"
   ]
  },
  {
   "cell_type": "code",
   "execution_count": 12,
   "metadata": {
    "ExecuteTime": {
     "end_time": "2020-04-29T06:32:33.798646Z",
     "start_time": "2020-04-29T06:32:33.768049Z"
    }
   },
   "outputs": [
    {
     "data": {
      "text/html": [
       "<div>\n",
       "<style scoped>\n",
       "    .dataframe tbody tr th:only-of-type {\n",
       "        vertical-align: middle;\n",
       "    }\n",
       "\n",
       "    .dataframe tbody tr th {\n",
       "        vertical-align: top;\n",
       "    }\n",
       "\n",
       "    .dataframe thead th {\n",
       "        text-align: right;\n",
       "    }\n",
       "</style>\n",
       "<table border=\"1\" class=\"dataframe\">\n",
       "  <thead>\n",
       "    <tr style=\"text-align: right;\">\n",
       "      <th></th>\n",
       "      <th>UNIQUE INDIVIDUALS TESTED</th>\n",
       "      <th>POSITIVE INDIVIDUALS</th>\n",
       "      <th>NEGATIVE INDIVIDUALS</th>\n",
       "    </tr>\n",
       "    <tr>\n",
       "      <th>Date</th>\n",
       "      <th></th>\n",
       "      <th></th>\n",
       "      <th></th>\n",
       "    </tr>\n",
       "  </thead>\n",
       "  <tbody>\n",
       "    <tr>\n",
       "      <th>2020-04-23</th>\n",
       "      <td>68765</td>\n",
       "      <td>8645</td>\n",
       "      <td>60004</td>\n",
       "    </tr>\n",
       "    <tr>\n",
       "      <th>2020-04-24</th>\n",
       "      <td>72794</td>\n",
       "      <td>8924</td>\n",
       "      <td>63733</td>\n",
       "    </tr>\n",
       "    <tr>\n",
       "      <th>2020-04-25</th>\n",
       "      <td>76030</td>\n",
       "      <td>9262</td>\n",
       "      <td>66640</td>\n",
       "    </tr>\n",
       "    <tr>\n",
       "      <th>2020-04-26</th>\n",
       "      <td>80858</td>\n",
       "      <td>9586</td>\n",
       "      <td>71142</td>\n",
       "    </tr>\n",
       "    <tr>\n",
       "      <th>2020-04-27</th>\n",
       "      <td>85596</td>\n",
       "      <td>9906</td>\n",
       "      <td>75553</td>\n",
       "    </tr>\n",
       "  </tbody>\n",
       "</table>\n",
       "</div>"
      ],
      "text/plain": [
       "            UNIQUE INDIVIDUALS TESTED  POSITIVE INDIVIDUALS  \\\n",
       "Date                                                          \n",
       "2020-04-23                      68765                  8645   \n",
       "2020-04-24                      72794                  8924   \n",
       "2020-04-25                      76030                  9262   \n",
       "2020-04-26                      80858                  9586   \n",
       "2020-04-27                      85596                  9906   \n",
       "\n",
       "            NEGATIVE INDIVIDUALS  \n",
       "Date                              \n",
       "2020-04-23                 60004  \n",
       "2020-04-24                 63733  \n",
       "2020-04-25                 66640  \n",
       "2020-04-26                 71142  \n",
       "2020-04-27                 75553  "
      ]
     },
     "execution_count": 12,
     "metadata": {},
     "output_type": "execute_result"
    }
   ],
   "source": [
    "df_test_counts = df_tests.groupby('Date')[cols].sum().resample('1D').sum()\n",
    "df_test_counts.tail()"
   ]
  },
  {
   "cell_type": "code",
   "execution_count": 13,
   "metadata": {
    "ExecuteTime": {
     "end_time": "2020-04-29T06:32:34.807245Z",
     "start_time": "2020-04-29T06:32:33.801264Z"
    }
   },
   "outputs": [
    {
     "data": {
      "image/png": "[encoded data removed]",
      "text/plain": [
       "<Figure size 720x432 with 2 Axes>"
      ]
     },
     "metadata": {
      "needs_background": "light"
     },
     "output_type": "display_data"
    }
   ],
   "source": [
    "fig, ax = plt.subplots(figsize=(10, 6))\n",
    "\n",
    "percent_positive = (100*df_test_counts.iloc[:, 1] / \n",
    "                    df_test_counts.iloc[:, 1:].sum(axis=1))\n",
    "percent_positive.plot(ax=ax, color='#fa3c4c', marker='o')\n",
    "ax.set_ylabel('% Positive', fontsize=13)\n",
    "ax.set_ylim(0, 18)\n",
    "\n",
    "ax2 = ax.twinx()\n",
    "daily_tests = df_test_counts.iloc[:, 0].diff().dropna()\n",
    "daily_tests.plot(ax=ax2, marker='o', linestyle='', color='#0084ff')\n",
    "ax2.vlines(x=daily_tests.index, ymin=0, color='#708090',\n",
    "           ymax=daily_tests.values, alpha=.3,\n",
    "           linewidth=5.5)\n",
    "ax2.set_ylabel('Unique Individuals Tested', fontsize=13);\n",
    "# ax2.set_ylim(0, )"
   ]
  },
  {
   "cell_type": "markdown",
   "metadata": {},
   "source": [
    "The percentage of positive cases has also declined which suggests that the targeted testing may have been taking effect already."
   ]
  },
  {
   "cell_type": "markdown",
   "metadata": {},
   "source": [
    "#### Rolling Bayesian Rt Estimate\n",
    "\n",
    "Code is copied directly from [Kevin Systrom's Github Notebook](https://github.com/k-sys/covid-19/blob/master/Realtime%20R0.ipynb)."
   ]
  },
  {
   "cell_type": "code",
   "execution_count": 14,
   "metadata": {
    "ExecuteTime": {
     "end_time": "2020-04-29T06:32:35.574071Z",
     "start_time": "2020-04-29T06:32:34.809814Z"
    }
   },
   "outputs": [
    {
     "data": {
      "image/png": "[encoded data removed]",
      "text/plain": [
       "<Figure size 500x400 with 1 Axes>"
      ]
     },
     "metadata": {},
     "output_type": "display_data"
    }
   ],
   "source": [
    "def prepare_cases(cases):\n",
    "    new_cases = cases.diff()\n",
    "\n",
    "    smoothed = new_cases.rolling(7,\n",
    "        win_type='gaussian',\n",
    "        min_periods=1,\n",
    "        center=True).mean(std=2).round()\n",
    "    \n",
    "    zeros = smoothed.index[smoothed.eq(0)]\n",
    "    if len(zeros) == 0:\n",
    "        idx_start = 0\n",
    "    else:\n",
    "        last_zero = zeros.max()\n",
    "        idx_start = smoothed.index.get_loc(last_zero) + 1\n",
    "    smoothed = smoothed.iloc[idx_start:]\n",
    "    original = new_cases.loc[smoothed.index]\n",
    "    \n",
    "    return original, smoothed\n",
    "\n",
    "cases = cases_per_day.cumsum()\n",
    "original, smoothed = prepare_cases(cases)\n",
    "\n",
    "original.plot(title=f\"New Cases per Day\",\n",
    "               c='k',\n",
    "               linestyle=':',\n",
    "               alpha=.5,\n",
    "               label='Actual',\n",
    "               legend=True,\n",
    "             figsize=(500/72, 400/72))\n",
    "\n",
    "ax = smoothed.plot(label='Smoothed', color='#0084ff',\n",
    "                   legend=True)\n",
    "\n",
    "ax.get_figure().set_facecolor('w')"
   ]
  },
  {
   "cell_type": "code",
   "execution_count": 15,
   "metadata": {
    "ExecuteTime": {
     "end_time": "2020-04-29T06:32:36.007047Z",
     "start_time": "2020-04-29T06:32:35.576426Z"
    }
   },
   "outputs": [],
   "source": [
    "def get_posteriors(sr, sigma=0.15):\n",
    "\n",
    "    # (1) Calculate Lambda\n",
    "    lam = sr[:-1].values * np.exp(GAMMA * (r_t_range[:, None] - 1))\n",
    "\n",
    "    \n",
    "    # (2) Calculate each day's likelihood\n",
    "    likelihoods = pd.DataFrame(\n",
    "        data = sps.poisson.pmf(sr[1:].values, lam),\n",
    "        index = r_t_range,\n",
    "        columns = sr.index[1:])\n",
    "    \n",
    "    # (3) Create the Gaussian Matrix\n",
    "    process_matrix = sps.norm(loc=r_t_range,\n",
    "                              scale=sigma\n",
    "                             ).pdf(r_t_range[:, None]) \n",
    "\n",
    "    # (3a) Normalize all rows to sum to 1\n",
    "    process_matrix /= process_matrix.sum(axis=0)\n",
    "    \n",
    "    # (4) Calculate the initial prior\n",
    "    prior0 = sps.gamma(a=4).pdf(r_t_range)\n",
    "    prior0 /= prior0.sum()\n",
    "\n",
    "    # Create a DataFrame that will hold our posteriors for each day\n",
    "    # Insert our prior as the first posterior.\n",
    "    posteriors = pd.DataFrame(\n",
    "        index=r_t_range,\n",
    "        columns=sr.index,\n",
    "        data={sr.index[0]: prior0}\n",
    "    )\n",
    "    \n",
    "    # We said we'd keep track of the sum of the log of the probability\n",
    "    # of the data for maximum likelihood calculation.\n",
    "    log_likelihood = 0.0\n",
    "\n",
    "    # (5) Iteratively apply Bayes' rule\n",
    "    for previous_day, current_day in zip(sr.index[:-1], sr.index[1:]):\n",
    "\n",
    "        #(5a) Calculate the new prior\n",
    "        current_prior = process_matrix @ posteriors[previous_day]\n",
    "        \n",
    "        #(5b) Calculate the numerator of Bayes' Rule: P(k|R_t)P(R_t)\n",
    "        numerator = likelihoods[current_day] * current_prior\n",
    "        \n",
    "        #(5c) Calcluate the denominator of Bayes' Rule P(k)\n",
    "        denominator = np.sum(numerator)\n",
    "        \n",
    "        # Execute full Bayes' Rule\n",
    "        posteriors[current_day] = numerator/denominator\n",
    "        \n",
    "        # Add to the running sum of log likelihoods\n",
    "        log_likelihood += np.log(denominator)\n",
    "    \n",
    "    return posteriors, log_likelihood\n",
    "\n",
    "# We create an array for every possible value of Rt\n",
    "R_T_MAX = 12\n",
    "r_t_range = np.linspace(0, R_T_MAX, R_T_MAX*100+1)\n",
    "\n",
    "# Gamma is 1/serial interval\n",
    "# https://wwwnc.cdc.gov/eid/article/26/7/20-0282_article\n",
    "# https://www.nejm.org/doi/full/10.1056/NEJMoa2001316\n",
    "GAMMA = 1/4\n",
    "\n",
    "# Note that we're fixing sigma to a value just for the example\n",
    "posteriors, log_likelihood = get_posteriors(smoothed, sigma=.15)"
   ]
  },
  {
   "cell_type": "code",
   "execution_count": 16,
   "metadata": {
    "ExecuteTime": {
     "end_time": "2020-04-29T06:32:36.024344Z",
     "start_time": "2020-04-29T06:32:36.010814Z"
    }
   },
   "outputs": [],
   "source": [
    "def highest_density_interval(pmf, p=.9):\n",
    "    # If we pass a DataFrame, just call this recursively on the columns\n",
    "    if(isinstance(pmf, pd.DataFrame)):\n",
    "        return pd.DataFrame([highest_density_interval(pmf[col], p=p) for col in pmf],\n",
    "                            index=pmf.columns)\n",
    "    \n",
    "    cumsum = np.cumsum(pmf.values)\n",
    "    best = None\n",
    "    for i, value in enumerate(cumsum):\n",
    "        for j, high_value in enumerate(cumsum[i+1:]):\n",
    "            if (high_value-value > p) and (not best or j<best[1]-best[0]):\n",
    "                best = (i, i+j+1)\n",
    "                break\n",
    "            \n",
    "    low = pmf.index[best[0]]\n",
    "    high = pmf.index[best[1]]\n",
    "    return pd.Series([low, high], index=[f'Low_{p*100:.0f}', f'High_{p*100:.0f}'])"
   ]
  },
  {
   "cell_type": "code",
   "execution_count": 17,
   "metadata": {
    "ExecuteTime": {
     "end_time": "2020-04-29T06:32:46.439475Z",
     "start_time": "2020-04-29T06:32:36.038682Z"
    }
   },
   "outputs": [
    {
     "data": {
      "text/html": [
       "<div>\n",
       "<style scoped>\n",
       "    .dataframe tbody tr th:only-of-type {\n",
       "        vertical-align: middle;\n",
       "    }\n",
       "\n",
       "    .dataframe tbody tr th {\n",
       "        vertical-align: top;\n",
       "    }\n",
       "\n",
       "    .dataframe thead th {\n",
       "        text-align: right;\n",
       "    }\n",
       "</style>\n",
       "<table border=\"1\" class=\"dataframe\">\n",
       "  <thead>\n",
       "    <tr style=\"text-align: right;\">\n",
       "      <th></th>\n",
       "      <th>ML</th>\n",
       "      <th>Low_90</th>\n",
       "      <th>High_90</th>\n",
       "    </tr>\n",
       "    <tr>\n",
       "      <th>DateRepConf</th>\n",
       "      <th></th>\n",
       "      <th></th>\n",
       "      <th></th>\n",
       "    </tr>\n",
       "  </thead>\n",
       "  <tbody>\n",
       "    <tr>\n",
       "      <th>2020-04-24</th>\n",
       "      <td>1.07</td>\n",
       "      <td>0.77</td>\n",
       "      <td>1.38</td>\n",
       "    </tr>\n",
       "    <tr>\n",
       "      <th>2020-04-25</th>\n",
       "      <td>1.10</td>\n",
       "      <td>0.81</td>\n",
       "      <td>1.42</td>\n",
       "    </tr>\n",
       "    <tr>\n",
       "      <th>2020-04-26</th>\n",
       "      <td>1.09</td>\n",
       "      <td>0.80</td>\n",
       "      <td>1.40</td>\n",
       "    </tr>\n",
       "    <tr>\n",
       "      <th>2020-04-27</th>\n",
       "      <td>1.03</td>\n",
       "      <td>0.75</td>\n",
       "      <td>1.35</td>\n",
       "    </tr>\n",
       "    <tr>\n",
       "      <th>2020-04-28</th>\n",
       "      <td>1.02</td>\n",
       "      <td>0.73</td>\n",
       "      <td>1.33</td>\n",
       "    </tr>\n",
       "  </tbody>\n",
       "</table>\n",
       "</div>"
      ],
      "text/plain": [
       "               ML  Low_90  High_90\n",
       "DateRepConf                       \n",
       "2020-04-24   1.07    0.77     1.38\n",
       "2020-04-25   1.10    0.81     1.42\n",
       "2020-04-26   1.09    0.80     1.40\n",
       "2020-04-27   1.03    0.75     1.35\n",
       "2020-04-28   1.02    0.73     1.33"
      ]
     },
     "execution_count": 17,
     "metadata": {},
     "output_type": "execute_result"
    }
   ],
   "source": [
    "# Note that this takes a while to execute - it's not the most efficient algorithm\n",
    "hdis = highest_density_interval(posteriors, p=.9)\n",
    "\n",
    "most_likely = posteriors.idxmax().rename('ML')\n",
    "\n",
    "# Look into why you shift -1\n",
    "result = pd.concat([most_likely, hdis], axis=1)\n",
    "\n",
    "result.tail()"
   ]
  },
  {
   "cell_type": "code",
   "execution_count": 18,
   "metadata": {
    "ExecuteTime": {
     "end_time": "2020-04-29T06:32:47.027593Z",
     "start_time": "2020-04-29T06:32:46.442370Z"
    },
    "scrolled": false
   },
   "outputs": [
    {
     "data": {
      "image/png": "[encoded data removed]",
      "text/plain": [
       "<Figure size 1152x432 with 1 Axes>"
      ]
     },
     "metadata": {
      "needs_background": "light"
     },
     "output_type": "display_data"
    }
   ],
   "source": [
    "fig, ax = plt.subplots(figsize=(16, 6))\n",
    "most_likely.plot(marker='o',\n",
    "                 label='Most Likely',\n",
    "                 c='k',\n",
    "                 zorder=2,\n",
    "                 markersize=4,\n",
    "                 ax=ax)\n",
    "\n",
    "ax.fill_between(hdis.index,\n",
    "                hdis['Low_90'],\n",
    "                hdis['High_90'],\n",
    "                color='k',\n",
    "                zorder=1,\n",
    "                alpha=.1,\n",
    "                lw=0,\n",
    "                label='Highest Density Interval')\n",
    "\n",
    "ax.axhline(1, linestyle='--')\n",
    "ax.axvline(most_likely.index[11], linewidth=5,\n",
    "           zorder=0, color='#fa3c4c',\n",
    "           label=f'Start of Lockdown: \\n{str(most_likely.index[11].date())}')\n",
    "\n",
    "ax.axvline(most_likely.index[40], linewidth=5,\n",
    "           zorder=0, color='#44bec7',\n",
    "           label=f'Start of Mass Testing (?): \\n{str(most_likely.index[40].date())}')\n",
    "\n",
    "ax.set_xlabel('Date Confirmed', size=13)\n",
    "ax.set_ylabel('Effective Reproduction (Rt)', size=13)\n",
    "ax.set_title(f'$R_t$ by day', size=15, y=1.02)\n",
    "ax.legend();"
   ]
  },
  {
   "cell_type": "markdown",
   "metadata": {},
   "source": [
    "Our current Rt is hovering around 1 which indicates that the spread has been relatively controlled at the national level.\n",
    "\n",
    "TO DO:\n",
    "1. Perform optimization of SIGMA\n",
    "2. Perform province level analysis."
   ]
  },
  {
   "cell_type": "markdown",
   "metadata": {},
   "source": [
    "#### Province Level Rt"
   ]
  },
  {
   "cell_type": "code",
   "execution_count": 19,
   "metadata": {
    "ExecuteTime": {
     "end_time": "2020-04-29T06:32:47.087777Z",
     "start_time": "2020-04-29T06:32:47.030492Z"
    }
   },
   "outputs": [
    {
     "data": {
      "text/html": [
       "<div>\n",
       "<style scoped>\n",
       "    .dataframe tbody tr th:only-of-type {\n",
       "        vertical-align: middle;\n",
       "    }\n",
       "\n",
       "    .dataframe tbody tr th {\n",
       "        vertical-align: top;\n",
       "    }\n",
       "\n",
       "    .dataframe thead th {\n",
       "        text-align: right;\n",
       "    }\n",
       "</style>\n",
       "<table border=\"1\" class=\"dataframe\">\n",
       "  <thead>\n",
       "    <tr style=\"text-align: right;\">\n",
       "      <th>RegionRes</th>\n",
       "      <th>1</th>\n",
       "      <th>10</th>\n",
       "      <th>11</th>\n",
       "      <th>12</th>\n",
       "      <th>2</th>\n",
       "      <th>3</th>\n",
       "      <th>4A</th>\n",
       "      <th>4B</th>\n",
       "      <th>5</th>\n",
       "      <th>6</th>\n",
       "      <th>7</th>\n",
       "      <th>8</th>\n",
       "      <th>9</th>\n",
       "      <th>BARMM</th>\n",
       "      <th>CAR</th>\n",
       "      <th>CARAGA</th>\n",
       "      <th>NCR</th>\n",
       "    </tr>\n",
       "    <tr>\n",
       "      <th>DateRepConf</th>\n",
       "      <th></th>\n",
       "      <th></th>\n",
       "      <th></th>\n",
       "      <th></th>\n",
       "      <th></th>\n",
       "      <th></th>\n",
       "      <th></th>\n",
       "      <th></th>\n",
       "      <th></th>\n",
       "      <th></th>\n",
       "      <th></th>\n",
       "      <th></th>\n",
       "      <th></th>\n",
       "      <th></th>\n",
       "      <th></th>\n",
       "      <th></th>\n",
       "      <th></th>\n",
       "    </tr>\n",
       "  </thead>\n",
       "  <tbody>\n",
       "    <tr>\n",
       "      <th>2020-01-30</th>\n",
       "      <td>0.0</td>\n",
       "      <td>0.0</td>\n",
       "      <td>0.0</td>\n",
       "      <td>0.0</td>\n",
       "      <td>0.0</td>\n",
       "      <td>0.0</td>\n",
       "      <td>0.0</td>\n",
       "      <td>0.0</td>\n",
       "      <td>0.0</td>\n",
       "      <td>0.0</td>\n",
       "      <td>1.0</td>\n",
       "      <td>0.0</td>\n",
       "      <td>0.0</td>\n",
       "      <td>0.0</td>\n",
       "      <td>0.0</td>\n",
       "      <td>0.0</td>\n",
       "      <td>0.0</td>\n",
       "    </tr>\n",
       "    <tr>\n",
       "      <th>2020-01-31</th>\n",
       "      <td>0.0</td>\n",
       "      <td>0.0</td>\n",
       "      <td>0.0</td>\n",
       "      <td>0.0</td>\n",
       "      <td>0.0</td>\n",
       "      <td>0.0</td>\n",
       "      <td>0.0</td>\n",
       "      <td>0.0</td>\n",
       "      <td>0.0</td>\n",
       "      <td>0.0</td>\n",
       "      <td>0.0</td>\n",
       "      <td>0.0</td>\n",
       "      <td>0.0</td>\n",
       "      <td>0.0</td>\n",
       "      <td>0.0</td>\n",
       "      <td>0.0</td>\n",
       "      <td>0.0</td>\n",
       "    </tr>\n",
       "    <tr>\n",
       "      <th>2020-02-01</th>\n",
       "      <td>0.0</td>\n",
       "      <td>0.0</td>\n",
       "      <td>0.0</td>\n",
       "      <td>0.0</td>\n",
       "      <td>0.0</td>\n",
       "      <td>0.0</td>\n",
       "      <td>0.0</td>\n",
       "      <td>0.0</td>\n",
       "      <td>0.0</td>\n",
       "      <td>0.0</td>\n",
       "      <td>0.0</td>\n",
       "      <td>0.0</td>\n",
       "      <td>0.0</td>\n",
       "      <td>0.0</td>\n",
       "      <td>0.0</td>\n",
       "      <td>0.0</td>\n",
       "      <td>0.0</td>\n",
       "    </tr>\n",
       "    <tr>\n",
       "      <th>2020-02-02</th>\n",
       "      <td>0.0</td>\n",
       "      <td>0.0</td>\n",
       "      <td>0.0</td>\n",
       "      <td>0.0</td>\n",
       "      <td>0.0</td>\n",
       "      <td>0.0</td>\n",
       "      <td>0.0</td>\n",
       "      <td>0.0</td>\n",
       "      <td>0.0</td>\n",
       "      <td>0.0</td>\n",
       "      <td>0.0</td>\n",
       "      <td>0.0</td>\n",
       "      <td>0.0</td>\n",
       "      <td>0.0</td>\n",
       "      <td>0.0</td>\n",
       "      <td>0.0</td>\n",
       "      <td>0.0</td>\n",
       "    </tr>\n",
       "    <tr>\n",
       "      <th>2020-02-03</th>\n",
       "      <td>0.0</td>\n",
       "      <td>0.0</td>\n",
       "      <td>0.0</td>\n",
       "      <td>0.0</td>\n",
       "      <td>0.0</td>\n",
       "      <td>0.0</td>\n",
       "      <td>0.0</td>\n",
       "      <td>0.0</td>\n",
       "      <td>0.0</td>\n",
       "      <td>0.0</td>\n",
       "      <td>1.0</td>\n",
       "      <td>0.0</td>\n",
       "      <td>0.0</td>\n",
       "      <td>0.0</td>\n",
       "      <td>0.0</td>\n",
       "      <td>0.0</td>\n",
       "      <td>0.0</td>\n",
       "    </tr>\n",
       "  </tbody>\n",
       "</table>\n",
       "</div>"
      ],
      "text/plain": [
       "RegionRes      1   10   11   12    2    3   4A   4B    5    6    7    8    9  \\\n",
       "DateRepConf                                                                    \n",
       "2020-01-30   0.0  0.0  0.0  0.0  0.0  0.0  0.0  0.0  0.0  0.0  1.0  0.0  0.0   \n",
       "2020-01-31   0.0  0.0  0.0  0.0  0.0  0.0  0.0  0.0  0.0  0.0  0.0  0.0  0.0   \n",
       "2020-02-01   0.0  0.0  0.0  0.0  0.0  0.0  0.0  0.0  0.0  0.0  0.0  0.0  0.0   \n",
       "2020-02-02   0.0  0.0  0.0  0.0  0.0  0.0  0.0  0.0  0.0  0.0  0.0  0.0  0.0   \n",
       "2020-02-03   0.0  0.0  0.0  0.0  0.0  0.0  0.0  0.0  0.0  0.0  1.0  0.0  0.0   \n",
       "\n",
       "RegionRes    BARMM  CAR  CARAGA  NCR  \n",
       "DateRepConf                           \n",
       "2020-01-30     0.0  0.0     0.0  0.0  \n",
       "2020-01-31     0.0  0.0     0.0  0.0  \n",
       "2020-02-01     0.0  0.0     0.0  0.0  \n",
       "2020-02-02     0.0  0.0     0.0  0.0  \n",
       "2020-02-03     0.0  0.0     0.0  0.0  "
      ]
     },
     "execution_count": 19,
     "metadata": {},
     "output_type": "execute_result"
    }
   ],
   "source": [
    "cases_per_provcity = (df.groupby(['DateRepConf', 'RegionRes'])['CaseCode']\n",
    "                      .count().reset_index()\n",
    "                      .pivot(index='DateRepConf',\n",
    "                             columns='RegionRes',\n",
    "                             values='CaseCode')\n",
    "                      .fillna(0).resample('1D').sum())\n",
    "cases_per_provcity.head()"
   ]
  },
  {
   "cell_type": "code",
   "execution_count": 20,
   "metadata": {
    "ExecuteTime": {
     "end_time": "2020-04-29T06:32:47.104192Z",
     "start_time": "2020-04-29T06:32:47.095186Z"
    }
   },
   "outputs": [],
   "source": [
    "# cases = cases_per_day.cumsum()\n",
    "# original, smoothed = prepare_cases(cases)\n",
    "# posteriors, log_likelihood = get_posteriors(smoothed, sigma=.15)\n",
    "# hdis = highest_density_interval(posteriors, p=.9)\n",
    "# most_likely = posteriors.idxmax().rename('ML')\n",
    "\n",
    "# # Look into why you shift -1\n",
    "# result = pd.concat([most_likely, hdis], axis=1)\n",
    "\n",
    "# result.tail()"
   ]
  }
 ],
 "metadata": {
  "kernelspec": {
   "display_name": "Python 3",
   "language": "python",
   "name": "python3"
  },
  "language_info": {
   "codemirror_mode": {
    "name": "ipython",
    "version": 3
   },
   "file_extension": ".py",
   "mimetype": "text/x-python",
   "name": "python",
   "nbconvert_exporter": "python",
   "pygments_lexer": "ipython3",
   "version": "3.7.6"
  },
  "toc": {
   "base_numbering": 1,
   "nav_menu": {},
   "number_sections": true,
   "sideBar": true,
   "skip_h1_title": false,
   "title_cell": "Table of Contents",
   "title_sidebar": "Contents",
   "toc_cell": false,
   "toc_position": {
    "height": "calc(100% - 180px)",
    "left": "10px",
    "top": "150px",
    "width": "249px"
   },
   "toc_section_display": true,
   "toc_window_display": true
  }
 },
 "nbformat": 4,
 "nbformat_minor": 4
}
